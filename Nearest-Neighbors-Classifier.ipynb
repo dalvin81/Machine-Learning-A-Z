{
 "cells": [
  {
   "cell_type": "code",
   "execution_count": 541,
   "metadata": {},
   "outputs": [],
   "source": [
    "import pandas as pd\n",
    "import numpy as np"
   ]
  },
  {
   "cell_type": "code",
   "execution_count": 542,
   "metadata": {},
   "outputs": [
    {
     "name": "stdout",
     "output_type": "stream",
     "text": [
      "----------------------DATASET---------------------------\n",
      "[[0.69646919 0.28613933 2.        ]\n",
      " [0.22685145 0.55131477 1.        ]\n",
      " [0.71946897 0.42310646 2.        ]\n",
      " [0.9807642  0.68482974 1.        ]\n",
      " [0.4809319  0.39211752 2.        ]]\n"
     ]
    }
   ],
   "source": [
    "#generate random dataset with two features and two classes\n",
    "np.random.seed(123)\n",
    "random_values = np.random.rand(200, 2)\n",
    "random_labels = np.random.choice([1, 2], size = (200, 1), p = [0.4, 0.6] )\n",
    "data = np.concatenate((random_values, random_labels), axis = 1)\n",
    "print(\"----------------------DATASET---------------------------\")\n",
    "print(data[:5,:])"
   ]
  },
  {
   "cell_type": "code",
   "execution_count": 543,
   "metadata": {},
   "outputs": [],
   "source": [
    "#split traing and test data\n",
    "np.random.shuffle(data)\n",
    "training_df = data[:100, :]\n",
    "test_df = data[100:, :]"
   ]
  },
  {
   "cell_type": "code",
   "execution_count": 544,
   "metadata": {},
   "outputs": [],
   "source": [
    "#separate features and labels\n",
    "train_data = training_df[:, :-1]\n",
    "train_label = training_df[:, -1]\n",
    "test_data = test_df[:, :-1]\n",
    "test_label = test_df[:, -1]"
   ]
  },
  {
   "cell_type": "code",
   "execution_count": 545,
   "metadata": {},
   "outputs": [
    {
     "name": "stdout",
     "output_type": "stream",
     "text": [
      "[[0.50031102 0.49734092]\n",
      " [0.50040928 0.55000333]]\n"
     ]
    }
   ],
   "source": [
    "#calculate class means for both features\n",
    "means = np.zeros((np.unique(train_label).shape[0], train_data.shape[1]))\n",
    "for class_id in range(means.shape[0]):\n",
    "    means[class_id] = np.mean(train_data[train_label == class_id+1], axis = 0)\n",
    "print(means)"
   ]
  },
  {
   "cell_type": "code",
   "execution_count": 546,
   "metadata": {},
   "outputs": [],
   "source": [
    "#calculate euclidean distance of features from mean\n",
    "train_dist = np.zeros((train_data.shape[0], np.unique(train_label).shape[0]))\n",
    "for class_id in range(train_dist.shape[1]):\n",
    "    train_dist[:,class_id] = np.sqrt(np.sum((train_data - means[class_id,:])**2, axis = 1))\n",
    "pred_train = np.argmin(train_dist, axis = 1) + 1"
   ]
  },
  {
   "cell_type": "code",
   "execution_count": 547,
   "metadata": {},
   "outputs": [],
   "source": [
    "test_dist = np.zeros((test_data.shape[0], np.unique(train_label).shape[0]))\n",
    "for class_id in range(test_dist.shape[1]):\n",
    "    test_dist[:, class_id] = np.sqrt(np.sum((test_data - means[class_id, :])**2, axis = 1))\n",
    "pred_test = np.argmin(test_dist, axis = 1) + 1\n"
   ]
  },
  {
   "cell_type": "code",
   "execution_count": 548,
   "metadata": {},
   "outputs": [],
   "source": [
    "train_error_rate = np.sum(pred_train != train_label) / train_label.shape[0] * 100 \n",
    "test_error_rate = np.sum(pred_test != test_label) / test_label.shape[0] * 100"
   ]
  },
  {
   "cell_type": "code",
   "execution_count": 549,
   "metadata": {},
   "outputs": [
    {
     "name": "stdout",
     "output_type": "stream",
     "text": [
      "Training classification error is: 48.0 %\n",
      "Test classification error is: 48.0 %\n"
     ]
    }
   ],
   "source": [
    "print(f'Training classification error is: {train_error_rate} %')\n",
    "print(f'Test classification error is: {test_error_rate} %')"
   ]
  }
 ],
 "metadata": {
  "kernelspec": {
   "display_name": "base",
   "language": "python",
   "name": "python3"
  },
  "language_info": {
   "codemirror_mode": {
    "name": "ipython",
    "version": 3
   },
   "file_extension": ".py",
   "mimetype": "text/x-python",
   "name": "python",
   "nbconvert_exporter": "python",
   "pygments_lexer": "ipython3",
   "version": "3.10.9"
  }
 },
 "nbformat": 4,
 "nbformat_minor": 2
}
